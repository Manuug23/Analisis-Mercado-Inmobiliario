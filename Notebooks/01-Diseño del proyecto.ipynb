{
 "cells": [
  {
   "cell_type": "markdown",
   "id": "c17d5c1d-6c8f-4f74-b7a7-a51e66f11c5f",
   "metadata": {},
   "source": [
    "# DISEÑO DEL PROYECTO"
   ]
  },
  {
   "cell_type": "markdown",
   "id": "9852e771-f5aa-4d5b-bb1b-caa83cfcdbae",
   "metadata": {},
   "source": [
    "Somos inmobiliaria que hace inversiones en grandes ciudades comprando inmuebles para posteriormente alquilarlos como apartamentos turísticos.\n",
    "\n",
    "La dirección ha tomado la decisión de invertir en Madrid, y nos ha encargado analizar los datos que el líder del sector AirBnb hace públicos para intentar encontrar los tipos de inmuebles que tienen mayor potencial comercial para alquier turístico.\n",
    "\n",
    "Como entregable principal esperan la tipología (o tipologías) de inmuebles que el equipo de valoraciones debe buscar entre las oportunidades existentes en la ciudad y los principales barrios o zonas geográficas en las que focalizarse.\n",
    "\n",
    "Para cumplir con el objetivo aplicaremos la metodología de Discovery y técnicas de BA."
   ]
  },
  {
   "cell_type": "markdown",
   "id": "711540a1-24a0-46e8-b66c-cfb2f40e3824",
   "metadata": {},
   "source": [
    "## OBJETIVO"
   ]
  },
  {
   "cell_type": "markdown",
   "id": "ecdbd76a-7f25-4412-8685-6bcb5d58d264",
   "metadata": {},
   "source": [
    "Localizar el perfil (o perfiles) de inmuebles que maximizan el potencial comercial en el mercado del alquiler turístico y las principales zonas donde buscarlos."
   ]
  },
  {
   "cell_type": "markdown",
   "id": "d77f0afc-0a5f-4945-bb27-8fdb1c059bea",
   "metadata": {},
   "source": [
    "## PALANCAS"
   ]
  },
  {
   "cell_type": "markdown",
   "id": "4197a128-af7e-4281-abad-32d21d1cff8a",
   "metadata": {},
   "source": [
    "Tras hablar con el equipo de valoraciones nos dicen que las palancas que tienen más impacto en la rentabilidad de este tipo de inversiones son:\n",
    "\n",
    "* **Precio alquiler**: cuanto más se pueda cobrar por noche mayor es la rentabilidad\n",
    "* **Ocupación**: en general cuantos más días al año se pueda alquilar un inmueble mayor es su rentabilidad\n",
    "* **Precio inmueble**: cuanto más barato se pueda adquirir la propiedad mayor es la rentabilidad"
   ]
  },
  {
   "cell_type": "markdown",
   "id": "ec928760-06ca-4005-ad4e-ef1934b1391c",
   "metadata": {},
   "source": [
    "## KPIs"
   ]
  },
  {
   "cell_type": "markdown",
   "id": "7a96353b-3c9c-4cbd-809b-a07074252a67",
   "metadata": {},
   "source": [
    "En este caso los Kpis son bastante directos:\n",
    "\n",
    "* Mediremos la ocupación como el número de días anuales que el inmueble se pueda alquilar\n",
    "* Mediremos el precio del alquiler como el precio por noche en euros según Airbnb\n",
    "* Mediremos el precio de un inmueble como la multiplicación entre el número de metros cuadrados y el precio medio del m2 en su zona, y aplicaremos un 25% de descuento sobre el precio oficial por la fuerza de negociciación de nuestro equipo de compras."
   ]
  },
  {
   "cell_type": "markdown",
   "id": "58b4db61-cef8-4a04-8e1b-c5160d95458f",
   "metadata": {},
   "source": [
    "## ENTIDADES Y DATOS"
   ]
  },
  {
   "cell_type": "markdown",
   "id": "4809b8e5-84c3-41f9-acdb-93896cd0e440",
   "metadata": {},
   "source": [
    "Las entidades relevantes para nuestro objetivo y de las que podemos disponer de datos son:\n",
    "\n",
    "* Inmuebles\n",
    "* Propietarios\n",
    "* Distritos\n",
    "\n",
    "Los datos concretos en cada uno de ellos los revisaremos en el siguiente módulo."
   ]
  },
  {
   "cell_type": "markdown",
   "id": "ac3bfc8e-a945-4414-963f-c9a0866551d6",
   "metadata": {},
   "source": [
    "## PREGUNTAS SEMILLA"
   ]
  },
  {
   "cell_type": "markdown",
   "id": "cbd78978-cb96-4d23-9028-44a2a5fa354b",
   "metadata": {},
   "source": [
    "Sobre el precio del alquiler:\n",
    "\n",
    "* ¿Cual es el precio promedio? ¿y el rango de precios?¿Y por distritos?¿Y por barrios?\n",
    "* ¿Cual es el ranking de distritos y barrios por precio medio de alquiler?\n",
    "* ¿Qué factores (a parte de la localización determinan el precio del alquiler?\n",
    "* ¿Cual es la relación entre el tamaño del inmueble y el precio por el que se puede alquilar?\n",
    "* ¿Cómo influye la competencia (num inmuebles disponibles por barrio) sobre el precio del alquiler?\n",
    "* ¿Cómo varían los precios por tipo de alquiler (todo el piso, habitación privada, habitación compartida)?\n",
    "\n",
    "c\n",
    "Sobre la ocupación:\n",
    "\n",
    "* ¿Cual es la ocupación media? ¿Y por distritos?¿Y por barrios?\n",
    "* ¿Cómo de probable es cada nivel de ocupación en cada distrito?\n",
    "* ¿Cual es el ranking de distritos y barrios por ocupación?\n",
    "* ¿Qué factores (a parte de la localización determinan la ocupación?\n",
    "* ¿Cual es la relación entre el tamaño del inmueble y su grado de ocupación?\n",
    "* ¿Cómo influye la competencia (num inmuebles disponibles por barrio) sobre la ocupación?\n",
    "\n",
    "Sobre el precio de compra:\n",
    "\n",
    "* ¿Cual es el ranking de precio por m2 por distrito?\n",
    "* ¿Cual es el ranking de precio del inmueble (m2 * tamaño medio) por distrito?\n",
    "* ¿Cual es la relación entre el precio del inmueble y el precio del alquiler por distrito?\n",
    "* ¿Cual es la relación entre el precio del inmueble y la ocupación por distrito?"
   ]
  },
  {
   "cell_type": "code",
   "execution_count": null,
   "id": "6c2c2b22-f1bd-4149-ab3a-9a5d0e6472c7",
   "metadata": {},
   "outputs": [],
   "source": []
  }
 ],
 "metadata": {
  "kernelspec": {
   "display_name": "Python 3 (ipykernel)",
   "language": "python",
   "name": "python3"
  },
  "language_info": {
   "codemirror_mode": {
    "name": "ipython",
    "version": 3
   },
   "file_extension": ".py",
   "mimetype": "text/x-python",
   "name": "python",
   "nbconvert_exporter": "python",
   "pygments_lexer": "ipython3",
   "version": "3.11.5"
  }
 },
 "nbformat": 4,
 "nbformat_minor": 5
}
